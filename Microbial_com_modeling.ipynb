{
 "metadata": {
  "name": ""
 },
 "nbformat": 3,
 "nbformat_minor": 0,
 "worksheets": [
  {
   "cells": [
    {
     "cell_type": "code",
     "collapsed": false,
     "input": [
      "# -*- coding: utf8 -*-\n",
      "\n",
      "from __future__ import division\n",
      "import graph\n",
      "import Microbial_com_modeling as mcm\n",
      "import multiprocess\n",
      "import numpy as np\n",
      "import scipy.stats as stats\n",
      "import matplotlib.pyplot as plt\n",
      "import statsmodels\n",
      "import multiprocessing as mp\n",
      "import seaborn as sns"
     ],
     "language": "python",
     "metadata": {},
     "outputs": [],
     "prompt_number": 1
    },
    {
     "cell_type": "code",
     "collapsed": false,
     "input": [
      "old_settings = np.seterr(all='raise')\n",
      "\n",
      "N = 400  # Number of distinct species\n",
      "M = 100  # number of distinct species in the local community (M < N)\n",
      "\n",
      "r = stats.uniform.rvs(loc=0, scale=1, size=M)  # growth rate, uniform distribution between 0 and 1, vector of size M\n",
      "while np.any(r == 0.):\n",
      "    for index, value in enumerate(r):\n",
      "        if value == 0.:\n",
      "            r[index] = stats.uniform.rvs(loc=0, scale=1)\n",
      "\n",
      "# k: carrying capacity\n",
      "k_even = stats.beta.rvs(a=1, b=1, loc=0, scale=1, size=M)  # uniform distribution\n",
      "k_uneven = stats.beta.rvs(a=1, b=1.5, loc=0, scale=1, size=M)  # uneven distribution\n",
      "\n",
      "\n",
      "# Scaling of carrying capacity k between 1 and 100\n",
      "k_even = 1. + k_even * 100\n",
      "k_uneven = 1. + k_uneven * 100\n",
      "\n",
      "# Interaction matrix A\n",
      "## Random Erd\u00f6s-Renyi model\n",
      "\n",
      "p = 2 / (N - 1)  # Here, average of 2 interactions per species\n",
      "# Probability that a link exist between two random nodes. Here, 2 interactions for each species in average\n",
      "\n",
      "A_ER = graph.generate_random_graph(N, p)\n",
      "\n",
      "NB_LOCAL_COMMUNITY = 100  # Number of local communities\n",
      "FRACTION_SHARED = 0.80  # fraction of species that need to be shared between each pair of local community.\n",
      "#FRACTION_SHARED * NB_LOCAL_COMMUNITY must be an integer\n",
      "NB_COMMON_SPECIES = int(FRACTION_SHARED * M)"
     ],
     "language": "python",
     "metadata": {},
     "outputs": [],
     "prompt_number": 2
    },
    {
     "cell_type": "code",
     "collapsed": false,
     "input": [
      "A_ER = np.load(\"A_ER.npy\")\n",
      "A_filtered = np.load(\"A_filtered.npy\")\n",
      "common_species_list = np.load(\"common_species_list.npy\")\n",
      "spearman_rho = np.load(\"spearman_rho.npy\")\n",
      "p_value_spearman = np.load(\"p_value.npy\")\n",
      "co_occurrence_matrix = np.load(\"co_occurrence_matrix.npy\")"
     ],
     "language": "python",
     "metadata": {},
     "outputs": [],
     "prompt_number": 4
    },
    {
     "cell_type": "code",
     "collapsed": false,
     "input": [
      "nb_true_pos, nb_true_neg, nb_false_pos, nb_false_neg = mcm.sensibility_sensitivity_analysis(co_occurrence_matrix,\n",
      "                                                                                            A_filtered)"
     ],
     "language": "python",
     "metadata": {},
     "outputs": [],
     "prompt_number": 5
    },
    {
     "cell_type": "code",
     "collapsed": false,
     "input": [
      "sensitivity = nb_true_pos / (nb_true_pos + nb_false_neg)\n",
      "specificity = nb_true_neg / (nb_true_neg + nb_false_pos)\n",
      "\n",
      "prompt = \"Number of true positive: {}\\nTrue negative: {}\\nFalse positive: {}\\nFalse negative: {}\"\n",
      "prompt += \"\\nSensitivity: {}\\nSpecificity: {}\"\n",
      "print(prompt.format(nb_true_pos, nb_true_neg, nb_false_pos, nb_false_neg, sensitivity, specificity))"
     ],
     "language": "python",
     "metadata": {},
     "outputs": [
      {
       "output_type": "stream",
       "stream": "stdout",
       "text": [
        "Number of true positive: 11\n",
        "True negative: 79736\n",
        "False positive: 37\n",
        "False negative: 16\n",
        "Sensitivity: 0.407407407407\n",
        "Specificity: 0.999536183922\n"
       ]
      }
     ],
     "prompt_number": 6
    },
    {
     "cell_type": "code",
     "collapsed": false,
     "input": [],
     "language": "python",
     "metadata": {},
     "outputs": []
    }
   ],
   "metadata": {}
  }
 ]
}